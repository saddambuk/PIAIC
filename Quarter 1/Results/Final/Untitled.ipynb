{
 "cells": [
  {
   "cell_type": "code",
   "execution_count": 1,
   "metadata": {},
   "outputs": [],
   "source": [
    "import pandas as pd\n",
    "\n",
    "df = pd.read_csv(\"PIAIC Islamabad Batch 3 Quarter 1 Final Grades_Results - Onsite - AIC Q1.csv\")"
   ]
  },
  {
   "cell_type": "code",
   "execution_count": 2,
   "metadata": {},
   "outputs": [
    {
     "data": {
      "text/html": [
       "<div>\n",
       "<style scoped>\n",
       "    .dataframe tbody tr th:only-of-type {\n",
       "        vertical-align: middle;\n",
       "    }\n",
       "\n",
       "    .dataframe tbody tr th {\n",
       "        vertical-align: top;\n",
       "    }\n",
       "\n",
       "    .dataframe thead th {\n",
       "        text-align: right;\n",
       "    }\n",
       "</style>\n",
       "<table border=\"1\" class=\"dataframe\">\n",
       "  <thead>\n",
       "    <tr style=\"text-align: right;\">\n",
       "      <th></th>\n",
       "      <th>Rank</th>\n",
       "      <th>Overall Percentile</th>\n",
       "      <th>Grade</th>\n",
       "      <th>Tests Missed</th>\n",
       "      <th>Roll Number</th>\n",
       "      <th>Name</th>\n",
       "      <th>AI for Everyone Quiz 1</th>\n",
       "      <th>Python Quz 1</th>\n",
       "      <th>Python Quiz 2</th>\n",
       "    </tr>\n",
       "  </thead>\n",
       "  <tbody>\n",
       "    <tr>\n",
       "      <th>0</th>\n",
       "      <td>1</td>\n",
       "      <td>99.67</td>\n",
       "      <td>A</td>\n",
       "      <td>0</td>\n",
       "      <td>PIAIC49757</td>\n",
       "      <td>Taimoor Arif</td>\n",
       "      <td>100.0</td>\n",
       "      <td>100.0</td>\n",
       "      <td>99.0</td>\n",
       "    </tr>\n",
       "    <tr>\n",
       "      <th>1</th>\n",
       "      <td>2</td>\n",
       "      <td>99.33</td>\n",
       "      <td>A</td>\n",
       "      <td>0</td>\n",
       "      <td>PIAIC55026</td>\n",
       "      <td>Azhar ul Islam</td>\n",
       "      <td>98.0</td>\n",
       "      <td>100.0</td>\n",
       "      <td>100.0</td>\n",
       "    </tr>\n",
       "    <tr>\n",
       "      <th>2</th>\n",
       "      <td>2</td>\n",
       "      <td>99.33</td>\n",
       "      <td>A</td>\n",
       "      <td>0</td>\n",
       "      <td>PIAIC66523</td>\n",
       "      <td>Faizan Hassan Siddiqui</td>\n",
       "      <td>100.0</td>\n",
       "      <td>100.0</td>\n",
       "      <td>98.0</td>\n",
       "    </tr>\n",
       "    <tr>\n",
       "      <th>3</th>\n",
       "      <td>2</td>\n",
       "      <td>99.33</td>\n",
       "      <td>A</td>\n",
       "      <td>0</td>\n",
       "      <td>PIAIC75264</td>\n",
       "      <td>Ahmed Usama Subhani</td>\n",
       "      <td>99.0</td>\n",
       "      <td>99.0</td>\n",
       "      <td>100.0</td>\n",
       "    </tr>\n",
       "    <tr>\n",
       "      <th>4</th>\n",
       "      <td>5</td>\n",
       "      <td>98.00</td>\n",
       "      <td>A</td>\n",
       "      <td>0</td>\n",
       "      <td>PIAIC50757</td>\n",
       "      <td>Fahad Zaheer</td>\n",
       "      <td>99.0</td>\n",
       "      <td>96.0</td>\n",
       "      <td>99.0</td>\n",
       "    </tr>\n",
       "  </tbody>\n",
       "</table>\n",
       "</div>"
      ],
      "text/plain": [
       "   Rank  Overall Percentile Grade  Tests Missed Roll Number  \\\n",
       "0     1               99.67     A             0  PIAIC49757   \n",
       "1     2               99.33     A             0  PIAIC55026   \n",
       "2     2               99.33     A             0  PIAIC66523   \n",
       "3     2               99.33     A             0  PIAIC75264   \n",
       "4     5               98.00     A             0  PIAIC50757   \n",
       "\n",
       "                     Name  AI for Everyone Quiz 1  Python Quz 1  Python Quiz 2  \n",
       "0            Taimoor Arif                   100.0         100.0           99.0  \n",
       "1          Azhar ul Islam                    98.0         100.0          100.0  \n",
       "2  Faizan Hassan Siddiqui                   100.0         100.0           98.0  \n",
       "3     Ahmed Usama Subhani                    99.0          99.0          100.0  \n",
       "4            Fahad Zaheer                    99.0          96.0           99.0  "
      ]
     },
     "execution_count": 2,
     "metadata": {},
     "output_type": "execute_result"
    }
   ],
   "source": [
    "df.head()"
   ]
  },
  {
   "cell_type": "code",
   "execution_count": 4,
   "metadata": {},
   "outputs": [
    {
     "data": {
      "text/plain": [
       "(1717, 9)"
      ]
     },
     "execution_count": 4,
     "metadata": {},
     "output_type": "execute_result"
    }
   ],
   "source": [
    "df.shape"
   ]
  },
  {
   "cell_type": "code",
   "execution_count": 6,
   "metadata": {},
   "outputs": [
    {
     "name": "stdout",
     "output_type": "stream",
     "text": [
      "<class 'pandas.core.frame.DataFrame'>\n",
      "RangeIndex: 1717 entries, 0 to 1716\n",
      "Data columns (total 9 columns):\n",
      "Rank                      1717 non-null int64\n",
      "Overall Percentile        1717 non-null float64\n",
      "Grade                     1717 non-null object\n",
      "Tests Missed              1717 non-null int64\n",
      "Roll Number               1717 non-null object\n",
      "Name                      1717 non-null object\n",
      "AI for Everyone Quiz 1    1717 non-null float64\n",
      "Python Quz 1              1717 non-null float64\n",
      "Python Quiz 2             1717 non-null float64\n",
      "dtypes: float64(4), int64(2), object(3)\n",
      "memory usage: 120.8+ KB\n"
     ]
    }
   ],
   "source": [
    "df.info()"
   ]
  },
  {
   "cell_type": "code",
   "execution_count": 7,
   "metadata": {},
   "outputs": [
    {
     "data": {
      "text/html": [
       "<div>\n",
       "<style scoped>\n",
       "    .dataframe tbody tr th:only-of-type {\n",
       "        vertical-align: middle;\n",
       "    }\n",
       "\n",
       "    .dataframe tbody tr th {\n",
       "        vertical-align: top;\n",
       "    }\n",
       "\n",
       "    .dataframe thead th {\n",
       "        text-align: right;\n",
       "    }\n",
       "</style>\n",
       "<table border=\"1\" class=\"dataframe\">\n",
       "  <thead>\n",
       "    <tr style=\"text-align: right;\">\n",
       "      <th></th>\n",
       "      <th>Rank</th>\n",
       "      <th>Overall Percentile</th>\n",
       "      <th>Tests Missed</th>\n",
       "      <th>AI for Everyone Quiz 1</th>\n",
       "      <th>Python Quz 1</th>\n",
       "      <th>Python Quiz 2</th>\n",
       "    </tr>\n",
       "  </thead>\n",
       "  <tbody>\n",
       "    <tr>\n",
       "      <th>count</th>\n",
       "      <td>1717.000000</td>\n",
       "      <td>1717.000000</td>\n",
       "      <td>1717.000000</td>\n",
       "      <td>1717.000000</td>\n",
       "      <td>1717.000000</td>\n",
       "      <td>1717.000000</td>\n",
       "    </tr>\n",
       "    <tr>\n",
       "      <th>mean</th>\n",
       "      <td>823.585906</td>\n",
       "      <td>43.536838</td>\n",
       "      <td>0.960978</td>\n",
       "      <td>46.976704</td>\n",
       "      <td>42.630751</td>\n",
       "      <td>41.002912</td>\n",
       "    </tr>\n",
       "    <tr>\n",
       "      <th>std</th>\n",
       "      <td>451.070229</td>\n",
       "      <td>31.374317</td>\n",
       "      <td>1.235731</td>\n",
       "      <td>31.233882</td>\n",
       "      <td>35.108091</td>\n",
       "      <td>36.343150</td>\n",
       "    </tr>\n",
       "    <tr>\n",
       "      <th>min</th>\n",
       "      <td>1.000000</td>\n",
       "      <td>0.000000</td>\n",
       "      <td>0.000000</td>\n",
       "      <td>0.000000</td>\n",
       "      <td>0.000000</td>\n",
       "      <td>0.000000</td>\n",
       "    </tr>\n",
       "    <tr>\n",
       "      <th>25%</th>\n",
       "      <td>427.000000</td>\n",
       "      <td>10.670000</td>\n",
       "      <td>0.000000</td>\n",
       "      <td>24.000000</td>\n",
       "      <td>0.000000</td>\n",
       "      <td>0.000000</td>\n",
       "    </tr>\n",
       "    <tr>\n",
       "      <th>50%</th>\n",
       "      <td>856.000000</td>\n",
       "      <td>48.670000</td>\n",
       "      <td>0.000000</td>\n",
       "      <td>48.000000</td>\n",
       "      <td>48.000000</td>\n",
       "      <td>48.000000</td>\n",
       "    </tr>\n",
       "    <tr>\n",
       "      <th>75%</th>\n",
       "      <td>1284.000000</td>\n",
       "      <td>71.000000</td>\n",
       "      <td>2.000000</td>\n",
       "      <td>74.000000</td>\n",
       "      <td>74.000000</td>\n",
       "      <td>73.000000</td>\n",
       "    </tr>\n",
       "    <tr>\n",
       "      <th>max</th>\n",
       "      <td>1382.000000</td>\n",
       "      <td>99.670000</td>\n",
       "      <td>3.000000</td>\n",
       "      <td>100.000000</td>\n",
       "      <td>100.000000</td>\n",
       "      <td>100.000000</td>\n",
       "    </tr>\n",
       "  </tbody>\n",
       "</table>\n",
       "</div>"
      ],
      "text/plain": [
       "              Rank  Overall Percentile  Tests Missed  AI for Everyone Quiz 1  \\\n",
       "count  1717.000000         1717.000000   1717.000000             1717.000000   \n",
       "mean    823.585906           43.536838      0.960978               46.976704   \n",
       "std     451.070229           31.374317      1.235731               31.233882   \n",
       "min       1.000000            0.000000      0.000000                0.000000   \n",
       "25%     427.000000           10.670000      0.000000               24.000000   \n",
       "50%     856.000000           48.670000      0.000000               48.000000   \n",
       "75%    1284.000000           71.000000      2.000000               74.000000   \n",
       "max    1382.000000           99.670000      3.000000              100.000000   \n",
       "\n",
       "       Python Quz 1  Python Quiz 2  \n",
       "count   1717.000000    1717.000000  \n",
       "mean      42.630751      41.002912  \n",
       "std       35.108091      36.343150  \n",
       "min        0.000000       0.000000  \n",
       "25%        0.000000       0.000000  \n",
       "50%       48.000000      48.000000  \n",
       "75%       74.000000      73.000000  \n",
       "max      100.000000     100.000000  "
      ]
     },
     "execution_count": 7,
     "metadata": {},
     "output_type": "execute_result"
    }
   ],
   "source": [
    "df.describe()"
   ]
  },
  {
   "cell_type": "code",
   "execution_count": 9,
   "metadata": {},
   "outputs": [
    {
     "data": {
      "text/plain": [
       "array(['A', 'B', 'C', 'F', 'D'], dtype=object)"
      ]
     },
     "execution_count": 9,
     "metadata": {},
     "output_type": "execute_result"
    }
   ],
   "source": [
    "df.Grade.unique()"
   ]
  },
  {
   "cell_type": "code",
   "execution_count": 10,
   "metadata": {},
   "outputs": [
    {
     "data": {
      "text/plain": [
       "B    699\n",
       "F    606\n",
       "A    282\n",
       "C    120\n",
       "D     10\n",
       "Name: Grade, dtype: int64"
      ]
     },
     "execution_count": 10,
     "metadata": {},
     "output_type": "execute_result"
    }
   ],
   "source": [
    "df.Grade.value_counts()"
   ]
  },
  {
   "cell_type": "markdown",
   "metadata": {},
   "source": [
    "## Visualizations"
   ]
  },
  {
   "cell_type": "code",
   "execution_count": 11,
   "metadata": {},
   "outputs": [],
   "source": [
    "import seaborn as sns\n",
    "%matplotlib inline"
   ]
  },
  {
   "cell_type": "code",
   "execution_count": 12,
   "metadata": {},
   "outputs": [
    {
     "data": {
      "text/html": [
       "<div>\n",
       "<style scoped>\n",
       "    .dataframe tbody tr th:only-of-type {\n",
       "        vertical-align: middle;\n",
       "    }\n",
       "\n",
       "    .dataframe tbody tr th {\n",
       "        vertical-align: top;\n",
       "    }\n",
       "\n",
       "    .dataframe thead th {\n",
       "        text-align: right;\n",
       "    }\n",
       "</style>\n",
       "<table border=\"1\" class=\"dataframe\">\n",
       "  <thead>\n",
       "    <tr style=\"text-align: right;\">\n",
       "      <th></th>\n",
       "      <th>Rank</th>\n",
       "      <th>Overall Percentile</th>\n",
       "      <th>Tests Missed</th>\n",
       "      <th>AI for Everyone Quiz 1</th>\n",
       "      <th>Python Quz 1</th>\n",
       "      <th>Python Quiz 2</th>\n",
       "    </tr>\n",
       "  </thead>\n",
       "  <tbody>\n",
       "    <tr>\n",
       "      <th>Rank</th>\n",
       "      <td>1.000000</td>\n",
       "      <td>-0.989658</td>\n",
       "      <td>0.841751</td>\n",
       "      <td>-0.848932</td>\n",
       "      <td>-0.927722</td>\n",
       "      <td>-0.937276</td>\n",
       "    </tr>\n",
       "    <tr>\n",
       "      <th>Overall Percentile</th>\n",
       "      <td>-0.989658</td>\n",
       "      <td>1.000000</td>\n",
       "      <td>-0.905047</td>\n",
       "      <td>0.858131</td>\n",
       "      <td>0.942061</td>\n",
       "      <td>0.942303</td>\n",
       "    </tr>\n",
       "    <tr>\n",
       "      <th>Tests Missed</th>\n",
       "      <td>0.841751</td>\n",
       "      <td>-0.905047</td>\n",
       "      <td>1.000000</td>\n",
       "      <td>-0.736723</td>\n",
       "      <td>-0.873877</td>\n",
       "      <td>-0.866590</td>\n",
       "    </tr>\n",
       "    <tr>\n",
       "      <th>AI for Everyone Quiz 1</th>\n",
       "      <td>-0.848932</td>\n",
       "      <td>0.858131</td>\n",
       "      <td>-0.736723</td>\n",
       "      <td>1.000000</td>\n",
       "      <td>0.695407</td>\n",
       "      <td>0.691238</td>\n",
       "    </tr>\n",
       "    <tr>\n",
       "      <th>Python Quz 1</th>\n",
       "      <td>-0.927722</td>\n",
       "      <td>0.942061</td>\n",
       "      <td>-0.873877</td>\n",
       "      <td>0.695407</td>\n",
       "      <td>1.000000</td>\n",
       "      <td>0.876124</td>\n",
       "    </tr>\n",
       "    <tr>\n",
       "      <th>Python Quiz 2</th>\n",
       "      <td>-0.937276</td>\n",
       "      <td>0.942303</td>\n",
       "      <td>-0.866590</td>\n",
       "      <td>0.691238</td>\n",
       "      <td>0.876124</td>\n",
       "      <td>1.000000</td>\n",
       "    </tr>\n",
       "  </tbody>\n",
       "</table>\n",
       "</div>"
      ],
      "text/plain": [
       "                            Rank  Overall Percentile  Tests Missed  \\\n",
       "Rank                    1.000000           -0.989658      0.841751   \n",
       "Overall Percentile     -0.989658            1.000000     -0.905047   \n",
       "Tests Missed            0.841751           -0.905047      1.000000   \n",
       "AI for Everyone Quiz 1 -0.848932            0.858131     -0.736723   \n",
       "Python Quz 1           -0.927722            0.942061     -0.873877   \n",
       "Python Quiz 2          -0.937276            0.942303     -0.866590   \n",
       "\n",
       "                        AI for Everyone Quiz 1  Python Quz 1  Python Quiz 2  \n",
       "Rank                                 -0.848932     -0.927722      -0.937276  \n",
       "Overall Percentile                    0.858131      0.942061       0.942303  \n",
       "Tests Missed                         -0.736723     -0.873877      -0.866590  \n",
       "AI for Everyone Quiz 1                1.000000      0.695407       0.691238  \n",
       "Python Quz 1                          0.695407      1.000000       0.876124  \n",
       "Python Quiz 2                         0.691238      0.876124       1.000000  "
      ]
     },
     "execution_count": 12,
     "metadata": {},
     "output_type": "execute_result"
    }
   ],
   "source": [
    "corr = df.corr()\n",
    "corr"
   ]
  },
  {
   "cell_type": "code",
   "execution_count": 13,
   "metadata": {},
   "outputs": [
    {
     "data": {
      "text/plain": [
       "<matplotlib.axes._subplots.AxesSubplot at 0x7ff9e09952d0>"
      ]
     },
     "execution_count": 13,
     "metadata": {},
     "output_type": "execute_result"
    },
    {
     "data": {
      "image/png": "[encoded data removed]",
      "text/plain": [
       "<Figure size 432x288 with 2 Axes>"
      ]
     },
     "metadata": {
      "needs_background": "light"
     },
     "output_type": "display_data"
    }
   ],
   "source": [
    "sns.heatmap(corr,cmap='Greens',annot=False)"
   ]
  }
 ],
 "metadata": {
  "kernelspec": {
   "display_name": "Python 3",
   "language": "python",
   "name": "python3"
  },
  "language_info": {
   "codemirror_mode": {
    "name": "ipython",
    "version": 3
   },
   "file_extension": ".py",
   "mimetype": "text/x-python",
   "name": "python",
   "nbconvert_exporter": "python",
   "pygments_lexer": "ipython3",
   "version": "3.7.4"
  }
 },
 "nbformat": 4,
 "nbformat_minor": 4
}
