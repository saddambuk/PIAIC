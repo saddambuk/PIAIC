{
 "cells": [
  {
   "cell_type": "markdown",
   "metadata": {},
   "source": [
    "# Dictionary"
   ]
  },
  {
   "cell_type": "code",
   "execution_count": 8,
   "metadata": {},
   "outputs": [
    {
     "data": {
      "text/plain": [
       "{'id': 1, 'name': 'Usama'}"
      ]
     },
     "execution_count": 8,
     "metadata": {},
     "output_type": "execute_result"
    }
   ],
   "source": [
    "d1 = {\n",
    "    'id':1,\n",
    "    'name':'Usama'\n",
    "}\n",
    "d1"
   ]
  },
  {
   "cell_type": "markdown",
   "metadata": {},
   "source": [
    "### del vs clear"
   ]
  },
  {
   "cell_type": "code",
   "execution_count": null,
   "metadata": {},
   "outputs": [],
   "source": [
    "# del Deletes\n",
    "del d1\n",
    "d1"
   ]
  },
  {
   "cell_type": "code",
   "execution_count": 9,
   "metadata": {},
   "outputs": [
    {
     "data": {
      "text/plain": [
       "{}"
      ]
     },
     "execution_count": 9,
     "metadata": {},
     "output_type": "execute_result"
    }
   ],
   "source": [
    "# clear empties\n",
    "d1.clear()\n",
    "d1"
   ]
  },
  {
   "cell_type": "code",
   "execution_count": 11,
   "metadata": {},
   "outputs": [
    {
     "data": {
      "text/plain": [
       "{'id': 2, 'name': 'Usama'}"
      ]
     },
     "execution_count": 11,
     "metadata": {},
     "output_type": "execute_result"
    }
   ],
   "source": [
    "d2 = {\n",
    "    'id':1,\n",
    "    'name':'Usama',\n",
    "    'id':2\n",
    "}\n",
    "d2"
   ]
  },
  {
   "cell_type": "markdown",
   "metadata": {},
   "source": [
    "### zip()\n",
    "Takes two lists and returns a list of tuples that can be converted to dict"
   ]
  },
  {
   "cell_type": "code",
   "execution_count": 25,
   "metadata": {},
   "outputs": [
    {
     "name": "stdin",
     "output_type": "stream",
     "text": [
      "Keys:  id,name,cnic\n",
      "values:  3,usama,12345\n"
     ]
    },
    {
     "data": {
      "text/plain": [
       "{'id': '3', 'name': 'usama', 'cnic': '12345'}"
      ]
     },
     "execution_count": 25,
     "metadata": {},
     "output_type": "execute_result"
    }
   ],
   "source": [
    "# keys = ['id','name','contact','cnic']\n",
    "keys = input(\"Keys: \")\n",
    "inp = input(\"values: \")\n",
    "keyList = keys.split(',')\n",
    "inlist = inp.split(',')\n",
    "dict(zip(keyList, inlist))\n",
    "# dict.fromkeys(d3, value=value)"
   ]
  },
  {
   "cell_type": "code",
   "execution_count": 34,
   "metadata": {},
   "outputs": [
    {
     "data": {
      "text/plain": [
       "{'id': '3', 'name': 'usama', 'cnic': '12345'}"
      ]
     },
     "execution_count": 34,
     "metadata": {},
     "output_type": "execute_result"
    }
   ],
   "source": [
    "d = {}\n",
    "for i in range(0, len(keyList)):\n",
    "    d[keyList[i]] = inlist[i]\n",
    "d"
   ]
  },
  {
   "cell_type": "code",
   "execution_count": 37,
   "metadata": {},
   "outputs": [
    {
     "data": {
      "text/plain": [
       "{'id': '3', 'name': 'usama', 'cnic': '12345'}"
      ]
     },
     "execution_count": 37,
     "metadata": {},
     "output_type": "execute_result"
    }
   ],
   "source": [
    "d = {}\n",
    "i = 0\n",
    "while i < len(keyList):\n",
    "    d[keyList[i]] = inlist[i]\n",
    "    i+=1\n",
    "d"
   ]
  },
  {
   "cell_type": "code",
   "execution_count": 41,
   "metadata": {},
   "outputs": [
    {
     "data": {
      "text/plain": [
       "{'id': '3', 'name': 'usama', 'cnic': '12345'}"
      ]
     },
     "execution_count": 41,
     "metadata": {},
     "output_type": "execute_result"
    }
   ],
   "source": [
    "d = {}\n",
    "{keyList[i]:inlist[i] for i in range(len(keyList))}"
   ]
  },
  {
   "cell_type": "code",
   "execution_count": 52,
   "metadata": {},
   "outputs": [
    {
     "data": {
      "text/plain": [
       "{'id': '1', 'name': 'a', 'skills': ['pyth', 'c', 'java']}"
      ]
     },
     "execution_count": 52,
     "metadata": {},
     "output_type": "execute_result"
    }
   ],
   "source": [
    "k = ['id', 'name', 'skills']\n",
    "v = str.split(\"1,a,pyth,c,java\",',',maxsplit=2)\n",
    "d = {}\n",
    "for i in range(0, len(k)-1):\n",
    "    d[k[i]] = v[i]\n",
    "d[k[2]] = str.split(v[2],',')\n",
    "d"
   ]
  },
  {
   "cell_type": "code",
   "execution_count": 99,
   "metadata": {},
   "outputs": [],
   "source": [
    "a = {chr(i) for i in range(65,91)}\n",
    "b = {chr(i) for i in range(97,123)}\n",
    "c = {chr(i) for i in range(48,58)}\n",
    "x = zip(a, b, c)\n",
    "y = list(x)"
   ]
  },
  {
   "cell_type": "code",
   "execution_count": null,
   "metadata": {},
   "outputs": [],
   "source": [
    "## Lambda Function"
   ]
  },
  {
   "cell_type": "code",
   "execution_count": 100,
   "metadata": {},
   "outputs": [
    {
     "data": {
      "text/plain": [
       "[('E', 'v', '7'),\n",
       " ('L', 'm', '2'),\n",
       " ('X', 'h', '1'),\n",
       " ('P', 'q', '9'),\n",
       " ('S', 'x', '4'),\n",
       " ('A', 'a', '8'),\n",
       " ('R', 't', '5'),\n",
       " ('J', 'i', '6'),\n",
       " ('Y', 'o', '0'),\n",
       " ('Q', 'j', '3')]"
      ]
     },
     "execution_count": 100,
     "metadata": {},
     "output_type": "execute_result"
    }
   ],
   "source": [
    "y.sort(key=lambda elem: elem[2], reverse=True)\n",
    "y"
   ]
  },
  {
   "cell_type": "code",
   "execution_count": 103,
   "metadata": {},
   "outputs": [
    {
     "data": {
      "text/plain": [
       "[('P', 'q', '9'),\n",
       " ('A', 'a', '8'),\n",
       " ('E', 'v', '7'),\n",
       " ('J', 'i', '6'),\n",
       " ('R', 't', '5'),\n",
       " ('S', 'x', '4'),\n",
       " ('Q', 'j', '3'),\n",
       " ('L', 'm', '2'),\n",
       " ('X', 'h', '1'),\n",
       " ('Y', 'o', '0')]"
      ]
     },
     "execution_count": 103,
     "metadata": {},
     "output_type": "execute_result"
    }
   ],
   "source": [
    "def withoutLambda(x):\n",
    "    return x[2]\n",
    "\n",
    "y.sort(key=withoutLambda, reverse=True)\n",
    "y"
   ]
  },
  {
   "cell_type": "code",
   "execution_count": 104,
   "metadata": {},
   "outputs": [
    {
     "data": {
      "text/plain": [
       "{'a': 1, 'b': 2, 'c': 5}"
      ]
     },
     "execution_count": 104,
     "metadata": {},
     "output_type": "execute_result"
    }
   ],
   "source": [
    "o = {\n",
    "    'a':1,\n",
    "    'c':5,\n",
    "    'b':2\n",
    "}\n",
    "\n",
    "{k: v for k, v in sorted(o.items(), key=lambda item: item[1])}\n",
    "# sorted(o.values())\n"
   ]
  },
  {
   "cell_type": "code",
   "execution_count": 107,
   "metadata": {},
   "outputs": [
    {
     "data": {
      "text/plain": [
       "dict_items([('a', 1), ('c', 5), ('b', 2)])"
      ]
     },
     "execution_count": 107,
     "metadata": {},
     "output_type": "execute_result"
    }
   ],
   "source": [
    "o.items()"
   ]
  },
  {
   "cell_type": "code",
   "execution_count": 127,
   "metadata": {},
   "outputs": [
    {
     "name": "stdin",
     "output_type": "stream",
     "text": [
      "Values 1,asd,qwe,ert\n",
      " no\n"
     ]
    },
    {
     "data": {
      "text/plain": [
       "[{'id': '1', 'name': ',', 'skills': ['qwe', 'ert']}]"
      ]
     },
     "execution_count": 127,
     "metadata": {},
     "output_type": "execute_result"
    }
   ],
   "source": [
    "k = ['id', 'name', 'skills']\n",
    "lis = []\n",
    "d = {}\n",
    "inp = \"\"\n",
    "while True: \n",
    "    values = input(\"Values\")\n",
    "    v = str.split(values,',',maxsplit=2)\n",
    "    for i in range(0,2):\n",
    "        d[k[i]] = values[i]\n",
    "    d[k[2]] = str.split(v[2],',')\n",
    "    lis.append(d)\n",
    "    if input(\"More? \") == 'no':\n",
    "        break\n",
    "lis"
   ]
  },
  {
   "cell_type": "code",
   "execution_count": 5,
   "metadata": {},
   "outputs": [
    {
     "data": {
      "text/plain": [
       "'Not Found'"
      ]
     },
     "execution_count": 5,
     "metadata": {},
     "output_type": "execute_result"
    }
   ],
   "source": [
    "p = {\n",
    "    'a':1,\n",
    "    'c':5,\n",
    "    'b':2\n",
    "}\n",
    "p.get('d', 'Not Found')"
   ]
  },
  {
   "cell_type": "code",
   "execution_count": null,
   "metadata": {},
   "outputs": [],
   "source": []
  }
 ],
 "metadata": {
  "kernelspec": {
   "display_name": "Python 3",
   "language": "python",
   "name": "python3"
  },
  "language_info": {
   "codemirror_mode": {
    "name": "ipython",
    "version": 3
   },
   "file_extension": ".py",
   "mimetype": "text/x-python",
   "name": "python",
   "nbconvert_exporter": "python",
   "pygments_lexer": "ipython3",
   "version": "3.7.4"
  }
 },
 "nbformat": 4,
 "nbformat_minor": 4
}
