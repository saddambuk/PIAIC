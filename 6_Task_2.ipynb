{
 "cells": [
  {
   "cell_type": "code",
   "execution_count": 10,
   "metadata": {},
   "outputs": [
    {
     "data": {
      "text/plain": [
       "6"
      ]
     },
     "execution_count": 10,
     "metadata": {},
     "output_type": "execute_result"
    }
   ],
   "source": [
    "import datetime\n",
    "datetime.date.weekday(datetime.date.today())"
   ]
  },
  {
   "cell_type": "code",
   "execution_count": 25,
   "metadata": {},
   "outputs": [
    {
     "data": {
      "text/plain": [
       "['Monday', 'Tuesday', 'Wednesday', 'Thursday', 'Friday', 'Saturday', 'Sunday']"
      ]
     },
     "execution_count": 25,
     "metadata": {},
     "output_type": "execute_result"
    }
   ],
   "source": [
    "import calendar\n",
    "days = list(calendar.day_name)\n",
    "days"
   ]
  },
  {
   "cell_type": "code",
   "execution_count": 29,
   "metadata": {},
   "outputs": [
    {
     "name": "stdin",
     "output_type": "stream",
     "text": [
      "1) Calculate \n",
      " 2 Exit \n",
      "  1\n",
      "Enter start month 12\n",
      "Enter start day 5\n"
     ]
    },
    {
     "name": "stdout",
     "output_type": "stream",
     "text": [
      "3\n"
     ]
    },
    {
     "name": "stdin",
     "output_type": "stream",
     "text": [
      "1) Calculate \n",
      " 2 Exit \n",
      "  2\n"
     ]
    }
   ],
   "source": [
    "import calendar\n",
    "rentDay = \"Thursday\"\n",
    "returnDay = \"Saturday\"\n",
    "returnTime = \"12\"\n",
    "rent = 1.59\n",
    "\n",
    "while(True):\n",
    "    choice = input(\"1) Calculate \\n 2 Exit \\n \") \n",
    "    if choice == '2':\n",
    "        break\n",
    "    else:\n",
    "        today = datetime.date.today()\n",
    "        returnTime = int(input('Enter return time(hour):'))\n",
    "        month = int(input('Enter start month'))\n",
    "        day = int(input('Enter start day'))\n",
    "        start = datetime.date(2019, month, day)\n",
    "        print(start.weekday())\n",
    "        daysToCharge = start - today\n",
    "        if returnTime > 8:\n",
    "            daysToCharge = daysToCharge + 1\n",
    "        if start.weekday() == 3:\n",
    "            discount = ()\n",
    "        \n",
    "        \n",
    "\n"
   ]
  }
 ],
 "metadata": {
  "kernelspec": {
   "display_name": "Python 3",
   "language": "python",
   "name": "python3"
  },
  "language_info": {
   "codemirror_mode": {
    "name": "ipython",
    "version": 3
   },
   "file_extension": ".py",
   "mimetype": "text/x-python",
   "name": "python",
   "nbconvert_exporter": "python",
   "pygments_lexer": "ipython3",
   "version": "3.7.4"
  }
 },
 "nbformat": 4,
 "nbformat_minor": 4
}
