{
 "cells": [
  {
   "cell_type": "code",
   "execution_count": 4,
   "metadata": {
    "scrolled": true
   },
   "outputs": [
    {
     "data": {
      "text/plain": [
       "4"
      ]
     },
     "execution_count": 4,
     "metadata": {},
     "output_type": "execute_result"
    }
   ],
   "source": [
    "1+3"
   ]
  },
  {
   "cell_type": "code",
   "execution_count": 5,
   "metadata": {},
   "outputs": [
    {
     "name": "stdout",
     "output_type": "stream",
     "text": [
      "wow\n"
     ]
    }
   ],
   "source": [
    "print(\"wow\")"
   ]
  },
  {
   "cell_type": "code",
   "execution_count": 11,
   "metadata": {},
   "outputs": [
    {
     "name": "stdout",
     "output_type": "stream",
     "text": [
      "enter marks 190\n",
      "\n",
      "Total Marks: 375\n",
      "Percentage: 75.0\n",
      "\n"
     ]
    }
   ],
   "source": [
    "# subject1 = input(\"Marks 1: \")\n",
    "# subject2 = input(\"Marks 2: \")\n",
    "# subject3 = input(\"Marks 3: \")\n",
    "# subject4 = input(\"Marks 4: \")\n",
    "# subject5 = input(\"Marks 5: \")\n",
    "\n",
    "subject1 = int(input(\"enter marks 1\"))\n",
    "subject2 = 60\n",
    "subject3 = 70\n",
    "subject4 = 80\n",
    "subject5 = 75\n",
    "\n",
    "total_marks = subject1 + subject2 + subject3 + subject4 + subject5\n",
    "\n",
    "percentage = total_marks / 500 * 100\n",
    "\n",
    "message = \"\"\"\n",
    "Total Marks: {}\n",
    "Percentage: {}\n",
    "\"\"\"\n",
    "\n",
    "print(message.format(total_marks, percentage))"
   ]
  }
 ],
 "metadata": {
  "kernelspec": {
   "display_name": "Python 3",
   "language": "python",
   "name": "python3"
  },
  "language_info": {
   "codemirror_mode": {
    "name": "ipython",
    "version": 3
   },
   "file_extension": ".py",
   "mimetype": "text/x-python",
   "name": "python",
   "nbconvert_exporter": "python",
   "pygments_lexer": "ipython3",
   "version": "3.6.7"
  }
 },
 "nbformat": 4,
 "nbformat_minor": 2
}
