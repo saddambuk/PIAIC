{
 "cells": [
  {
   "cell_type": "markdown",
   "metadata": {},
   "source": [
    "5.1.20\n",
    "# OOP\n",
    "- Class\n",
    "- Methods\n",
    "- Attributes\n",
    "\n",
    "## Pillars of OOP\n",
    "1. Inheritance\n",
    "1. Polymorphism\n",
    "1. Encapsulation\n",
    "1. Abstraction\n",
    "\n",
    "### 1. Inheritance\n",
    "- Parent/Child classes\n",
    "\n",
    "### 2. Polymorphism\n",
    "Function or operator with more than one behaviour\n",
    "- Function overloading\n",
    "    - Same name function in one class with different parameters.\n",
    "- Function overriding\n",
    "    - Same name function in parent and child but function executed is in child\n",
    "- Operator overloading\n",
    "\n",
    "### 3. Encapsulation\n",
    "- Private attributes and functions.\n",
    "- Getters, Setters.\n",
    "\n",
    "### 4. Abstraction\n",
    "- Abstract Class: General class, cant create object of it. Used to inherit other classes. e.g Animal"
   ]
  },
  {
   "cell_type": "markdown",
   "metadata": {},
   "source": [
    "---"
   ]
  },
  {
   "cell_type": "markdown",
   "metadata": {},
   "source": [
    "## Class in python\n",
    "- Constructor: \\__init(self)__\n",
    "- First parameter of every method is \"self\". (Can be Ignored when calling)\n",
    "- Documentation string, which can be accessed via ClassName.\\__doc__.\n",
    "- Class variable is shared among all instances of the class\n",
    "- Private attributes and methods start with __\n",
    "```python\n",
    "class ClassName:\n",
    "   'About this class'      <-- Documentation String\n",
    "    x = 0                  <-- Class variable\n",
    "    def __init__(self, x): <-- Constructor\n",
    "        self.__x = x       <-- x is private\n",
    "```\n"
   ]
  },
  {
   "cell_type": "code",
   "execution_count": 22,
   "metadata": {},
   "outputs": [],
   "source": [
    "class Student:\n",
    "    counter = 0\n",
    "    def __init__(self, s_id, s_name):\n",
    "        self.s_id = s_id\n",
    "        self.s_name = s_name\n",
    "        Student.counter += 1\n",
    "        \n",
    "    def print_student(self):\n",
    "        print(\"ID:\", self.s_id)\n",
    "        print(\"Name:\", self.s_name)"
   ]
  },
  {
   "cell_type": "code",
   "execution_count": 24,
   "metadata": {},
   "outputs": [
    {
     "name": "stdout",
     "output_type": "stream",
     "text": [
      "ID: 1\n",
      "Name: wah\n"
     ]
    }
   ],
   "source": [
    "s1 = Student(1, \"wah\")\n",
    "s1.print_student()"
   ]
  },
  {
   "cell_type": "code",
   "execution_count": 25,
   "metadata": {},
   "outputs": [],
   "source": [
    "s2 = Student(2, \"Nice\")\n",
    "s3 = Student(3, \"Amaze\")"
   ]
  },
  {
   "cell_type": "code",
   "execution_count": 26,
   "metadata": {},
   "outputs": [
    {
     "name": "stdout",
     "output_type": "stream",
     "text": [
      "ID: 1\n",
      "Name: wah\n",
      "ID: 2\n",
      "Name: Nice\n",
      "ID: 3\n",
      "Name: Amaze\n",
      "Total Students 3\n"
     ]
    }
   ],
   "source": [
    "for i in s1,s2,s3:\n",
    "    i.print_student()\n",
    "    \n",
    "print(\"Total Students\", Student.counter)"
   ]
  },
  {
   "cell_type": "code",
   "execution_count": 29,
   "metadata": {},
   "outputs": [
    {
     "data": {
      "text/plain": [
       "{'s_id': 2, 's_name': 'Nice'}"
      ]
     },
     "execution_count": 29,
     "metadata": {},
     "output_type": "execute_result"
    }
   ],
   "source": [
    "s2.__dict__"
   ]
  },
  {
   "cell_type": "markdown",
   "metadata": {},
   "source": [
    "---"
   ]
  },
  {
   "cell_type": "markdown",
   "metadata": {},
   "source": [
    "## Inheritance"
   ]
  },
  {
   "cell_type": "code",
   "execution_count": null,
   "metadata": {},
   "outputs": [],
   "source": [
    "class Vehicle:\n",
    "    \n",
    "    def __init__(self, name):\n",
    "        self.name = name\n",
    "        self.color = color\n",
    "        self"
   ]
  },
  {
   "cell_type": "markdown",
   "metadata": {},
   "source": [
    "#### Multiple Inheritance"
   ]
  },
  {
   "cell_type": "code",
   "execution_count": 30,
   "metadata": {},
   "outputs": [],
   "source": [
    "class Father:\n",
    "    \n",
    "    def __init__(self, name, eye):\n",
    "        self.name = name\n",
    "        self.eye_color = eye\n",
    "        \n",
    "    def speak(self):\n",
    "        print(\"I'm Father\")\n",
    "        "
   ]
  },
  {
   "cell_type": "code",
   "execution_count": 31,
   "metadata": {},
   "outputs": [],
   "source": [
    "class Mother:\n",
    "    \n",
    "    def __init__(self, name, eye):\n",
    "        self.name = name\n",
    "        self.eye_color = eye\n",
    "        \n",
    "    def speak(self):\n",
    "        print(\"I'm Mother\")\n"
   ]
  },
  {
   "cell_type": "code",
   "execution_count": 44,
   "metadata": {},
   "outputs": [],
   "source": [
    "class Son(Mother, Father):\n",
    "    def eat(self):\n",
    "        print(\"Eating\")"
   ]
  },
  {
   "cell_type": "code",
   "execution_count": 45,
   "metadata": {},
   "outputs": [],
   "source": [
    "son1 = Son(\"Son\", \"pink\")"
   ]
  },
  {
   "cell_type": "code",
   "execution_count": 36,
   "metadata": {},
   "outputs": [
    {
     "data": {
      "text/plain": [
       "{'name': 'Son', 'eye_color': 'pink'}"
      ]
     },
     "execution_count": 36,
     "metadata": {},
     "output_type": "execute_result"
    }
   ],
   "source": [
    "son1.__dict__"
   ]
  },
  {
   "cell_type": "code",
   "execution_count": 47,
   "metadata": {},
   "outputs": [
    {
     "name": "stdout",
     "output_type": "stream",
     "text": [
      "I'm Mother\n"
     ]
    }
   ],
   "source": [
    "son1.speak()"
   ]
  },
  {
   "cell_type": "markdown",
   "metadata": {},
   "source": [
    "---"
   ]
  },
  {
   "cell_type": "markdown",
   "metadata": {},
   "source": [
    "## Polymorphism"
   ]
  },
  {
   "cell_type": "markdown",
   "metadata": {},
   "source": [
    "#### Function overloading ???"
   ]
  },
  {
   "cell_type": "markdown",
   "metadata": {},
   "source": [
    "####  Overriding"
   ]
  },
  {
   "cell_type": "code",
   "execution_count": 57,
   "metadata": {},
   "outputs": [],
   "source": [
    "class A:\n",
    "    def foo(self): print(\"AAA\")\n",
    "        \n",
    "class B(A):\n",
    "    def foo(self): print(\"BBB\")"
   ]
  },
  {
   "cell_type": "code",
   "execution_count": 58,
   "metadata": {},
   "outputs": [
    {
     "name": "stdout",
     "output_type": "stream",
     "text": [
      "BBB\n"
     ]
    }
   ],
   "source": [
    "b = B()\n",
    "b.foo()"
   ]
  },
  {
   "cell_type": "markdown",
   "metadata": {},
   "source": [
    "---\n",
    "# Session 9\n",
    "---"
   ]
  },
  {
   "cell_type": "markdown",
   "metadata": {},
   "source": [
    "## Encapsulation"
   ]
  },
  {
   "cell_type": "code",
   "execution_count": 13,
   "metadata": {},
   "outputs": [],
   "source": [
    "class A:\n",
    "    def __init__(self, x):\n",
    "        self.__x = x\n",
    "    \n",
    "    def get_x(self):\n",
    "        return self.__x\n",
    "    \n",
    "    def set_x(self, x):\n",
    "        self.__x = x\n",
    "        \n",
    "    def __display__(self):"
   ]
  },
  {
   "cell_type": "code",
   "execution_count": 15,
   "metadata": {},
   "outputs": [],
   "source": [
    "obj1 = A(2)"
   ]
  },
  {
   "cell_type": "code",
   "execution_count": 8,
   "metadata": {},
   "outputs": [
    {
     "ename": "AttributeError",
     "evalue": "'A' object has no attribute 'x'",
     "output_type": "error",
     "traceback": [
      "\u001b[0;31m---------------------------------------------------------------------------\u001b[0m",
      "\u001b[0;31mAttributeError\u001b[0m                            Traceback (most recent call last)",
      "\u001b[0;32m<ipython-input-8-a8a835d9df4e>\u001b[0m in \u001b[0;36m<module>\u001b[0;34m\u001b[0m\n\u001b[0;32m----> 1\u001b[0;31m \u001b[0mobj1\u001b[0m\u001b[0;34m.\u001b[0m\u001b[0mx\u001b[0m\u001b[0;34m\u001b[0m\u001b[0;34m\u001b[0m\u001b[0m\n\u001b[0m",
      "\u001b[0;31mAttributeError\u001b[0m: 'A' object has no attribute 'x'"
     ]
    }
   ],
   "source": [
    "obj1.x"
   ]
  },
  {
   "cell_type": "code",
   "execution_count": 10,
   "metadata": {},
   "outputs": [
    {
     "ename": "AttributeError",
     "evalue": "'A' object has no attribute '__x'",
     "output_type": "error",
     "traceback": [
      "\u001b[0;31m---------------------------------------------------------------------------\u001b[0m",
      "\u001b[0;31mAttributeError\u001b[0m                            Traceback (most recent call last)",
      "\u001b[0;32m<ipython-input-10-c916469df46a>\u001b[0m in \u001b[0;36m<module>\u001b[0;34m\u001b[0m\n\u001b[0;32m----> 1\u001b[0;31m \u001b[0mobj1\u001b[0m\u001b[0;34m.\u001b[0m\u001b[0m__x\u001b[0m\u001b[0;34m\u001b[0m\u001b[0;34m\u001b[0m\u001b[0m\n\u001b[0m",
      "\u001b[0;31mAttributeError\u001b[0m: 'A' object has no attribute '__x'"
     ]
    }
   ],
   "source": [
    "obj1.__x"
   ]
  },
  {
   "cell_type": "markdown",
   "metadata": {},
   "source": [
    "#### Private Variables in Python\n",
    "- Name Mangling\n",
    "- Python is not pure OOP language\n",
    "- private attributes can be accessed by class reference but not by object reference ??"
   ]
  },
  {
   "cell_type": "code",
   "execution_count": 12,
   "metadata": {},
   "outputs": [
    {
     "data": {
      "text/plain": [
       "2"
      ]
     },
     "execution_count": 12,
     "metadata": {},
     "output_type": "execute_result"
    }
   ],
   "source": [
    "obj1._A__x"
   ]
  },
  {
   "cell_type": "code",
   "execution_count": 16,
   "metadata": {},
   "outputs": [
    {
     "data": {
      "text/plain": [
       "2"
      ]
     },
     "execution_count": 16,
     "metadata": {},
     "output_type": "execute_result"
    }
   ],
   "source": [
    "obj1.get_x()"
   ]
  },
  {
   "cell_type": "markdown",
   "metadata": {},
   "source": [
    "---\n",
    "## Abstraction"
   ]
  },
  {
   "cell_type": "markdown",
   "metadata": {},
   "source": [
    "- Abstract classes are blueprints for other classes\n",
    "- Not possible in python by default. 'abc' module provides this."
   ]
  },
  {
   "cell_type": "code",
   "execution_count": 18,
   "metadata": {},
   "outputs": [],
   "source": [
    "# abc = abstract base class\n",
    "# convention: Capital for class, small for function\n",
    "from abc import ABC, abstractmethod"
   ]
  },
  {
   "cell_type": "code",
   "execution_count": 30,
   "metadata": {},
   "outputs": [],
   "source": [
    "# Derive base class from ABC to make it abstract\n",
    "class Human(ABC):\n",
    "    @abstractmethod\n",
    "    def __init__(self, name, age):\n",
    "        self.__name = name\n",
    "        self.__age = age\n",
    "    \n",
    "class Male(Human):\n",
    "    def __init__(self):\n",
    "        pass"
   ]
  },
  {
   "cell_type": "code",
   "execution_count": 28,
   "metadata": {},
   "outputs": [
    {
     "ename": "TypeError",
     "evalue": "Can't instantiate abstract class Human with abstract methods __init__",
     "output_type": "error",
     "traceback": [
      "\u001b[0;31m---------------------------------------------------------------------------\u001b[0m",
      "\u001b[0;31mTypeError\u001b[0m                                 Traceback (most recent call last)",
      "\u001b[0;32m<ipython-input-28-e0df24d9cc37>\u001b[0m in \u001b[0;36m<module>\u001b[0;34m\u001b[0m\n\u001b[0;32m----> 1\u001b[0;31m \u001b[0mh1\u001b[0m \u001b[0;34m=\u001b[0m \u001b[0mHuman\u001b[0m\u001b[0;34m(\u001b[0m\u001b[0;34m'asd'\u001b[0m\u001b[0;34m,\u001b[0m \u001b[0;34m'qweq'\u001b[0m\u001b[0;34m)\u001b[0m\u001b[0;34m\u001b[0m\u001b[0;34m\u001b[0m\u001b[0m\n\u001b[0m",
      "\u001b[0;31mTypeError\u001b[0m: Can't instantiate abstract class Human with abstract methods __init__"
     ]
    }
   ],
   "source": [
    "h1 = Human('asd', 'qweq')"
   ]
  },
  {
   "cell_type": "code",
   "execution_count": 31,
   "metadata": {},
   "outputs": [],
   "source": [
    "m1 = Male()"
   ]
  },
  {
   "cell_type": "markdown",
   "metadata": {},
   "source": [
    "# Task\n",
    "- Use OOP concepts in an exaple"
   ]
  },
  {
   "cell_type": "code",
   "execution_count": 66,
   "metadata": {},
   "outputs": [],
   "source": [
    "class A(ABC):\n",
    "    def __init__(self, x):\n",
    "        self.__x = x\n",
    "        \n",
    "    @abstractmethod\n",
    "    def display(self):\n",
    "        pass\n",
    "    \n",
    "class B(A):\n",
    "    def __init__(self, x, y):\n",
    "        self.__y = y\n",
    "        A.__init__(self, x)\n",
    "    \n",
    "    def display(self, seperator):\n",
    "        print('(',self._A__x, seperator, self.__y,')')\n",
    "        \n",
    "    def display(self):\n",
    "        print(self._A__x)\n",
    "        print(self.__y)\n",
    "    \n",
    "    def set_x(self, x):\n",
    "        self._A__x = x\n",
    "        \n",
    "    def set_y(self, y):\n",
    "        self.__y = y"
   ]
  },
  {
   "cell_type": "code",
   "execution_count": 67,
   "metadata": {},
   "outputs": [],
   "source": [
    "b1 = B(2, 3)"
   ]
  },
  {
   "cell_type": "code",
   "execution_count": 68,
   "metadata": {},
   "outputs": [
    {
     "name": "stdout",
     "output_type": "stream",
     "text": [
      "2\n",
      "3\n"
     ]
    }
   ],
   "source": [
    "b1.display()"
   ]
  },
  {
   "cell_type": "code",
   "execution_count": 49,
   "metadata": {},
   "outputs": [],
   "source": [
    "b1.set_x(5)"
   ]
  },
  {
   "cell_type": "code",
   "execution_count": 69,
   "metadata": {},
   "outputs": [
    {
     "ename": "TypeError",
     "evalue": "display() takes 1 positional argument but 2 were given",
     "output_type": "error",
     "traceback": [
      "\u001b[0;31m---------------------------------------------------------------------------\u001b[0m",
      "\u001b[0;31mTypeError\u001b[0m                                 Traceback (most recent call last)",
      "\u001b[0;32m<ipython-input-69-81781ac7b468>\u001b[0m in \u001b[0;36m<module>\u001b[0;34m\u001b[0m\n\u001b[0;32m----> 1\u001b[0;31m \u001b[0mb1\u001b[0m\u001b[0;34m.\u001b[0m\u001b[0mdisplay\u001b[0m\u001b[0;34m(\u001b[0m\u001b[0;34m','\u001b[0m\u001b[0;34m)\u001b[0m\u001b[0;34m\u001b[0m\u001b[0;34m\u001b[0m\u001b[0m\n\u001b[0m",
      "\u001b[0;31mTypeError\u001b[0m: display() takes 1 positional argument but 2 were given"
     ]
    }
   ],
   "source": [
    "b1.display(',')"
   ]
  }
 ],
 "metadata": {
  "kernelspec": {
   "display_name": "Python 3",
   "language": "python",
   "name": "python3"
  },
  "language_info": {
   "codemirror_mode": {
    "name": "ipython",
    "version": 3
   },
   "file_extension": ".py",
   "mimetype": "text/x-python",
   "name": "python",
   "nbconvert_exporter": "python",
   "pygments_lexer": "ipython3",
   "version": "3.7.4"
  }
 },
 "nbformat": 4,
 "nbformat_minor": 4
}
