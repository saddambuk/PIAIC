{
 "cells": [
  {
   "cell_type": "markdown",
   "metadata": {},
   "source": [
    "5.1.20\n",
    "# OOP\n",
    "- Class\n",
    "- Methods\n",
    "- Attributes\n",
    "\n",
    "## Pillars of OOP\n",
    "1. Inheritance\n",
    "1. Polymorphism\n",
    "1. Encapsulation\n",
    "1. Abstraction\n",
    "\n",
    "### 1. Inheritance\n",
    "- Parent/Child classes\n",
    "\n",
    "### 2. Polymorphism\n",
    "Function or operator with more than one behaviour\n",
    "- Function overloading\n",
    "    - Same name function in one class with different parameters.\n",
    "- Function overriding\n",
    "    - Same name function in parent and child but function executed is in child\n",
    "- Operator overloading\n",
    "\n",
    "### 3. Encapsulation\n",
    "- Private attributes and functions.\n",
    "- Getters, Setters.\n",
    "\n",
    "### 4. Abstraction\n",
    "- Abstract Class: General class, cant create object of it. Used to inherit other classes. e.g Animal"
   ]
  },
  {
   "cell_type": "markdown",
   "metadata": {},
   "source": [
    "---"
   ]
  },
  {
   "cell_type": "markdown",
   "metadata": {},
   "source": [
    "## Class in python\n",
    "- Constructor: \\__init(self)__\n",
    "- First parameter of every method is \"self\". (Can be Ignored when calling)\n",
    "- Documentation string, which can be accessed via ClassName.\\__doc__.\n",
    "- Class variable is shared among all instances of the class\n",
    "```python\n",
    "class ClassName:\n",
    "   'About this class'  <-- Documentation String\n",
    "    x = 0              <-- Class variable\n",
    "    def __init__(self) <-- Constructor\n",
    "```\n"
   ]
  },
  {
   "cell_type": "code",
   "execution_count": 22,
   "metadata": {},
   "outputs": [],
   "source": [
    "class Student:\n",
    "    counter = 0\n",
    "    def __init__(self, s_id, s_name):\n",
    "        self.s_id = s_id\n",
    "        self.s_name = s_name\n",
    "        Student.counter += 1\n",
    "        \n",
    "    def print_student(self):\n",
    "        print(\"ID:\", self.s_id)\n",
    "        print(\"Name:\", self.s_name)"
   ]
  },
  {
   "cell_type": "code",
   "execution_count": 24,
   "metadata": {},
   "outputs": [
    {
     "name": "stdout",
     "output_type": "stream",
     "text": [
      "ID: 1\n",
      "Name: wah\n"
     ]
    }
   ],
   "source": [
    "s1 = Student(1, \"wah\")\n",
    "s1.print_student()"
   ]
  },
  {
   "cell_type": "code",
   "execution_count": 25,
   "metadata": {},
   "outputs": [],
   "source": [
    "s2 = Student(2, \"Nice\")\n",
    "s3 = Student(3, \"Amaze\")"
   ]
  },
  {
   "cell_type": "code",
   "execution_count": 26,
   "metadata": {},
   "outputs": [
    {
     "name": "stdout",
     "output_type": "stream",
     "text": [
      "ID: 1\n",
      "Name: wah\n",
      "ID: 2\n",
      "Name: Nice\n",
      "ID: 3\n",
      "Name: Amaze\n",
      "Total Students 3\n"
     ]
    }
   ],
   "source": [
    "for i in s1,s2,s3:\n",
    "    i.print_student()\n",
    "    \n",
    "print(\"Total Students\", Student.counter)"
   ]
  },
  {
   "cell_type": "code",
   "execution_count": 29,
   "metadata": {},
   "outputs": [
    {
     "data": {
      "text/plain": [
       "{'s_id': 2, 's_name': 'Nice'}"
      ]
     },
     "execution_count": 29,
     "metadata": {},
     "output_type": "execute_result"
    }
   ],
   "source": [
    "s2.__dict__"
   ]
  },
  {
   "cell_type": "markdown",
   "metadata": {},
   "source": [
    "---"
   ]
  },
  {
   "cell_type": "markdown",
   "metadata": {},
   "source": [
    "## Inheritance"
   ]
  },
  {
   "cell_type": "code",
   "execution_count": null,
   "metadata": {},
   "outputs": [],
   "source": [
    "class Vehicle:\n",
    "    \n",
    "    def __init__(self, name):\n",
    "        self.name = name\n",
    "        self.color = color\n",
    "        self"
   ]
  },
  {
   "cell_type": "markdown",
   "metadata": {},
   "source": [
    "#### Multiple Inheritance"
   ]
  },
  {
   "cell_type": "code",
   "execution_count": 30,
   "metadata": {},
   "outputs": [],
   "source": [
    "class Father:\n",
    "    \n",
    "    def __init__(self, name, eye):\n",
    "        self.name = name\n",
    "        self.eye_color = eye\n",
    "        \n",
    "    def speak(self):\n",
    "        print(\"I'm Father\")\n",
    "        "
   ]
  },
  {
   "cell_type": "code",
   "execution_count": 31,
   "metadata": {},
   "outputs": [],
   "source": [
    "class Mother:\n",
    "    \n",
    "    def __init__(self, name, eye):\n",
    "        self.name = name\n",
    "        self.eye_color = eye\n",
    "        \n",
    "    def speak(self):\n",
    "        print(\"I'm Mother\")\n"
   ]
  },
  {
   "cell_type": "code",
   "execution_count": 44,
   "metadata": {},
   "outputs": [],
   "source": [
    "class Son(Mother, Father):\n",
    "    def eat(self):\n",
    "        print(\"Eating\")"
   ]
  },
  {
   "cell_type": "code",
   "execution_count": 45,
   "metadata": {},
   "outputs": [],
   "source": [
    "son1 = Son(\"Son\", \"pink\")"
   ]
  },
  {
   "cell_type": "code",
   "execution_count": 36,
   "metadata": {},
   "outputs": [
    {
     "data": {
      "text/plain": [
       "{'name': 'Son', 'eye_color': 'pink'}"
      ]
     },
     "execution_count": 36,
     "metadata": {},
     "output_type": "execute_result"
    }
   ],
   "source": [
    "son1.__dict__"
   ]
  },
  {
   "cell_type": "code",
   "execution_count": 47,
   "metadata": {},
   "outputs": [
    {
     "name": "stdout",
     "output_type": "stream",
     "text": [
      "I'm Mother\n"
     ]
    }
   ],
   "source": [
    "son1.speak()"
   ]
  },
  {
   "cell_type": "markdown",
   "metadata": {},
   "source": [
    "---"
   ]
  },
  {
   "cell_type": "markdown",
   "metadata": {},
   "source": [
    "## Polymorphism"
   ]
  },
  {
   "cell_type": "markdown",
   "metadata": {},
   "source": [
    "#### Function overloading ???"
   ]
  },
  {
   "cell_type": "markdown",
   "metadata": {},
   "source": [
    "####  Overriding"
   ]
  },
  {
   "cell_type": "code",
   "execution_count": 57,
   "metadata": {},
   "outputs": [],
   "source": [
    "class A:\n",
    "    def foo(self): print(\"AAA\")\n",
    "        \n",
    "class B(A):\n",
    "    def foo(self): print(\"BBB\")"
   ]
  },
  {
   "cell_type": "code",
   "execution_count": 58,
   "metadata": {},
   "outputs": [
    {
     "name": "stdout",
     "output_type": "stream",
     "text": [
      "BBB\n"
     ]
    }
   ],
   "source": [
    "b = B()\n",
    "b.foo()"
   ]
  }
 ],
 "metadata": {
  "kernelspec": {
   "display_name": "Python 3",
   "language": "python",
   "name": "python3"
  },
  "language_info": {
   "codemirror_mode": {
    "name": "ipython",
    "version": 3
   },
   "file_extension": ".py",
   "mimetype": "text/x-python",
   "name": "python",
   "nbconvert_exporter": "python",
   "pygments_lexer": "ipython3",
   "version": "3.7.4"
  }
 },
 "nbformat": 4,
 "nbformat_minor": 4
}
