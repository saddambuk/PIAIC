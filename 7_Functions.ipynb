{
 "cells": [
  {
   "cell_type": "markdown",
   "metadata": {},
   "source": [
    "# Functions \n",
    "- Predefined Functions\n",
    "- User defined functions\n",
    "- Lambda Functions"
   ]
  },
  {
   "cell_type": "markdown",
   "metadata": {},
   "source": [
    "## Predefined functions\n",
    "```python\n",
    "print()\n",
    "input()\n",
    "```\n",
    "etc"
   ]
  },
  {
   "cell_type": "markdown",
   "metadata": {},
   "source": [
    "## User Defined Functions\n",
    "- **Default Function**: Takes no argument\n",
    "```python\n",
    "def functionName():\n",
    "```"
   ]
  },
  {
   "cell_type": "markdown",
   "metadata": {},
   "source": [
    "### Non return functions"
   ]
  },
  {
   "cell_type": "code",
   "execution_count": 14,
   "metadata": {},
   "outputs": [
    {
     "name": "stdout",
     "output_type": "stream",
     "text": [
      "WOW\n",
      "None\n"
     ]
    }
   ],
   "source": [
    "a = print(\"WOW\")\n",
    "print(a)"
   ]
  },
  {
   "cell_type": "markdown",
   "metadata": {},
   "source": [
    "### Function Arguments\n",
    "- Postional arguments\n",
    "    - Error if called with missing argument\n",
    "- Optional arguments"
   ]
  },
  {
   "cell_type": "code",
   "execution_count": 5,
   "metadata": {},
   "outputs": [
    {
     "data": {
      "text/plain": [
       "3"
      ]
     },
     "execution_count": 5,
     "metadata": {},
     "output_type": "execute_result"
    }
   ],
   "source": [
    "# a and b are positional arguments\n",
    "def difference(a, b):\n",
    "    return abs(b - a)\n",
    "\n",
    "difference(8, 5)\n",
    "    "
   ]
  },
  {
   "cell_type": "code",
   "execution_count": 11,
   "metadata": {},
   "outputs": [
    {
     "name": "stdout",
     "output_type": "stream",
     "text": [
      "3\n",
      "8\n"
     ]
    }
   ],
   "source": [
    "# b is optional\n",
    "def difference(a, b = 0):\n",
    "    return abs(b - a)\n",
    "\n",
    "print(difference(8, 5))\n",
    "print(difference(8))\n",
    "    "
   ]
  },
  {
   "cell_type": "markdown",
   "metadata": {},
   "source": [
    "### Keyword arguments"
   ]
  },
  {
   "cell_type": "code",
   "execution_count": 20,
   "metadata": {},
   "outputs": [
    {
     "name": "stdout",
     "output_type": "stream",
     "text": [
      "\n",
      "    Name: Ali\n",
      "    cnic: 43211234\n",
      "    age: 20\n",
      "    \n"
     ]
    }
   ],
   "source": [
    "def id_card(name, cnic, age):\n",
    "    return f\"\"\"\n",
    "    Name: {name}\n",
    "    cnic: {cnic}\n",
    "    age: {age}\n",
    "    \"\"\"\n",
    "\n",
    "# Calling function using keyword arguments\n",
    "r = id_card(cnic = '43211234', name = \"Ali\", age = 20)\n",
    "print(r)"
   ]
  },
  {
   "cell_type": "markdown",
   "metadata": {},
   "source": [
    "**If mixing positional and keyword args, positional come first**"
   ]
  },
  {
   "cell_type": "markdown",
   "metadata": {},
   "source": [
    "### Pass args by list"
   ]
  },
  {
   "cell_type": "code",
   "execution_count": 25,
   "metadata": {},
   "outputs": [
    {
     "name": "stdout",
     "output_type": "stream",
     "text": [
      "\n",
      "    Name: Umer\n",
      "    cnic: 12340\n",
      "    age: 20\n",
      "    \n"
     ]
    }
   ],
   "source": [
    "def id_card(name, cnic, age):\n",
    "    return f\"\"\"\n",
    "    Name: {name}\n",
    "    cnic: {cnic}\n",
    "    age: {age}\n",
    "    \"\"\"\n",
    "\n",
    "l = [\"Umer\", 12340, 20]\n",
    "r = id_card(*l)\n",
    "print(r)"
   ]
  },
  {
   "cell_type": "markdown",
   "metadata": {},
   "source": [
    "### Pass args by dict"
   ]
  },
  {
   "cell_type": "code",
   "execution_count": 30,
   "metadata": {},
   "outputs": [
    {
     "name": "stdout",
     "output_type": "stream",
     "text": [
      "\n",
      "    Name: Usman\n",
      "    cnic: 4444\n",
      "    age: 30\n",
      "    \n"
     ]
    }
   ],
   "source": [
    "d1 = {\n",
    "    'name': \"Usman\",\n",
    "    'age': 30,\n",
    "    'cnic': 4444\n",
    "}\n",
    "r = id_card(**d1)\n",
    "print(r)"
   ]
  },
  {
   "cell_type": "markdown",
   "metadata": {},
   "source": [
    "### Optional parameters with list"
   ]
  },
  {
   "cell_type": "code",
   "execution_count": 42,
   "metadata": {},
   "outputs": [
    {
     "name": "stdout",
     "output_type": "stream",
     "text": [
      "Usama\n",
      "(1, 2, 5)\n",
      "8\n"
     ]
    }
   ],
   "source": [
    "def abc(name, *nums):\n",
    "    print(name)\n",
    "    print(nums)\n",
    "    print(sum(nums))\n",
    "    \n",
    "abc(\"Usama\", 1, 2, 5)"
   ]
  },
  {
   "cell_type": "code",
   "execution_count": 48,
   "metadata": {},
   "outputs": [
    {
     "data": {
      "text/plain": [
       "20"
      ]
     },
     "execution_count": 48,
     "metadata": {},
     "output_type": "execute_result"
    }
   ],
   "source": [
    "def sumNums(*nums):\n",
    "    return sum(nums)\n",
    "\n",
    "sumNums(9,9,2)"
   ]
  },
  {
   "cell_type": "markdown",
   "metadata": {},
   "source": [
    "### Optional Parameters wit dict"
   ]
  },
  {
   "cell_type": "code",
   "execution_count": 51,
   "metadata": {},
   "outputs": [
    {
     "name": "stdout",
     "output_type": "stream",
     "text": [
      "{'a': 'wow', 'b': 123}\n"
     ]
    }
   ],
   "source": [
    "def withDict(**kargs):\n",
    "    print(kargs)\n",
    "\n",
    "withDict(a=\"wow\", b=123)"
   ]
  },
  {
   "cell_type": "markdown",
   "metadata": {},
   "source": [
    "### Recursion"
   ]
  },
  {
   "cell_type": "markdown",
   "metadata": {},
   "source": [
    "### Generator Functions\n",
    "- yield keyword"
   ]
  },
  {
   "cell_type": "code",
   "execution_count": 65,
   "metadata": {},
   "outputs": [
    {
     "name": "stdout",
     "output_type": "stream",
     "text": [
      "<generator object my_generator_func at 0x7f435cd70750>\n",
      "3\n",
      "5\n",
      "6\n"
     ]
    },
    {
     "data": {
      "text/plain": [
       "[9, 10, 12, 15, 18, 20, 21, 24, 25, 27, 30, 33, 35, 36, 39, 40, 42, 45, 48, 50]"
      ]
     },
     "execution_count": 65,
     "metadata": {},
     "output_type": "execute_result"
    }
   ],
   "source": [
    "def my_generator_func(n):\n",
    "    for i in range(1, n+1):\n",
    "        if i%3 == 0 or i%5 == 0:\n",
    "            yield i\n",
    "            \n",
    "a = my_generator_func(50)\n",
    "print(a)\n",
    "print(next(a))\n",
    "print(next(a))\n",
    "print(next(a))\n",
    "list(a)"
   ]
  },
  {
   "cell_type": "markdown",
   "metadata": {},
   "source": [
    "### Lambda Function"
   ]
  },
  {
   "cell_type": "code",
   "execution_count": 67,
   "metadata": {},
   "outputs": [
    {
     "data": {
      "text/plain": [
       "6"
      ]
     },
     "execution_count": 67,
     "metadata": {},
     "output_type": "execute_result"
    }
   ],
   "source": [
    "xyz = lambda x, y: max(x, y)\n",
    "\n",
    "xyz(6, 3)"
   ]
  }
 ],
 "metadata": {
  "kernelspec": {
   "display_name": "Python 3",
   "language": "python",
   "name": "python3"
  },
  "language_info": {
   "codemirror_mode": {
    "name": "ipython",
    "version": 3
   },
   "file_extension": ".py",
   "mimetype": "text/x-python",
   "name": "python",
   "nbconvert_exporter": "python",
   "pygments_lexer": "ipython3",
   "version": "3.7.4"
  }
 },
 "nbformat": 4,
 "nbformat_minor": 4
}
