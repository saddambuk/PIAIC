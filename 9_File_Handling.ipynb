{
 "cells": [
  {
   "cell_type": "markdown",
   "metadata": {},
   "source": [
    "# File Handling"
   ]
  },
  {
   "cell_type": "markdown",
   "metadata": {},
   "source": [
    "#### Magic Function: %load"
   ]
  },
  {
   "cell_type": "code",
   "execution_count": 1,
   "metadata": {},
   "outputs": [],
   "source": [
    "# %load test.py\n",
    "print(\"Test File 1\")\n"
   ]
  },
  {
   "cell_type": "code",
   "execution_count": 4,
   "metadata": {},
   "outputs": [],
   "source": [
    "file = open(\"abc.txt\", 'w')\n",
    "file.write(\"LEAVE ME HERE\")\n",
    "file.close()"
   ]
  },
  {
   "cell_type": "code",
   "execution_count": 20,
   "metadata": {},
   "outputs": [],
   "source": [
    "# A better way, no need to close explicitly\n",
    "with open('abc.txt', 'a') as file:\n",
    "    for i in range(1,5):\n",
    "        file.writelines(f\"{i} LEAVE ME HERE\\n\")"
   ]
  },
  {
   "cell_type": "code",
   "execution_count": 21,
   "metadata": {},
   "outputs": [
    {
     "name": "stdout",
     "output_type": "stream",
     "text": [
      "1 LEAVE ME HERE\n",
      "2 LEAVE ME HERE\n",
      "3 LEAVE ME HERE\n",
      "4 LEAVE ME HERE\n",
      "\n"
     ]
    }
   ],
   "source": [
    "with open(\"abc.txt\") as file:\n",
    "    print(file.read())"
   ]
  },
  {
   "cell_type": "code",
   "execution_count": 22,
   "metadata": {},
   "outputs": [
    {
     "name": "stdout",
     "output_type": "stream",
     "text": [
      "1 LEAVE ME HERE\n",
      "\n"
     ]
    }
   ],
   "source": [
    "with open(\"abc.txt\") as file:\n",
    "    print(file.readline())"
   ]
  },
  {
   "cell_type": "code",
   "execution_count": 45,
   "metadata": {},
   "outputs": [],
   "source": [
    "alphas = ['A', 'B', 'C']\n",
    "nums = []\n",
    "with open(\"abc.txt\") as file:\n",
    "    nums = (file.readline().strip('[],',))\n",
    "    nums =list(nums.split(','))\n",
    "\n",
    "nums.reverse()\n",
    "alphas.reverse()\n",
    "theList = nums + alphas"
   ]
  },
  {
   "cell_type": "code",
   "execution_count": 63,
   "metadata": {},
   "outputs": [],
   "source": [
    "with open(\"abc.txt\", 'w') as f:\n",
    "    for i in range(0, 6):\n",
    "        f.write(theList[i])"
   ]
  },
  {
   "cell_type": "code",
   "execution_count": 64,
   "metadata": {},
   "outputs": [
    {
     "data": {
      "text/plain": [
       "'321CBA'"
      ]
     },
     "execution_count": 64,
     "metadata": {},
     "output_type": "execute_result"
    }
   ],
   "source": [
    "\"\".join(theList)"
   ]
  },
  {
   "cell_type": "markdown",
   "metadata": {},
   "source": [
    "### Reading Datasets\n",
    "- Pandas\n",
    "\n",
    "### Reading Images\n",
    "- matplotlib.image\n",
    "- PIL\n",
    "- cv2 (OpenCV)\n",
    "- keras.preprocessing image\n",
    "\n",
    "### Reading Audio\n",
    "- scipy.io wavfile"
   ]
  },
  {
   "cell_type": "code",
   "execution_count": null,
   "metadata": {},
   "outputs": [],
   "source": []
  }
 ],
 "metadata": {
  "kernelspec": {
   "display_name": "Python 3",
   "language": "python",
   "name": "python3"
  },
  "language_info": {
   "codemirror_mode": {
    "name": "ipython",
    "version": 3
   },
   "file_extension": ".py",
   "mimetype": "text/x-python",
   "name": "python",
   "nbconvert_exporter": "python",
   "pygments_lexer": "ipython3",
   "version": "3.7.4"
  }
 },
 "nbformat": 4,
 "nbformat_minor": 4
}
